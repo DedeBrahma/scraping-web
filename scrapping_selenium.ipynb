{
  "nbformat": 4,
  "nbformat_minor": 0,
  "metadata": {
    "colab": {
      "name": "scrapping_selenium.ipynb",
      "provenance": [],
      "collapsed_sections": [],
      "toc_visible": true,
      "authorship_tag": "ABX9TyOJre6r8s9OkIG1pc677eF+",
      "include_colab_link": true
    },
    "kernelspec": {
      "name": "python3",
      "display_name": "Python 3"
    }
  },
  "cells": [
    {
      "cell_type": "markdown",
      "metadata": {
        "id": "view-in-github",
        "colab_type": "text"
      },
      "source": [
        "<a href=\"https://colab.research.google.com/github/DedeBrahma/scraping-web/blob/master/scrapping_selenium.ipynb\" target=\"_parent\"><img src=\"https://colab.research.google.com/assets/colab-badge.svg\" alt=\"Open In Colab\"/></a>"
      ]
    },
    {
      "cell_type": "markdown",
      "metadata": {
        "id": "FG6R3kBXFiQP",
        "colab_type": "text"
      },
      "source": [
        "**INTRO**\n",
        "\n",
        "copy file ini ke dalam google drive mu, caranya :\n",
        "\n",
        "klik File di pojok kiri, lalu pilih \"save a copy in drive.\"\n",
        "\n",
        "Note : `SELALU GUNAKAN REFERENSI KETIKA ANDA MENYADUR`"
      ]
    },
    {
      "cell_type": "markdown",
      "metadata": {
        "id": "R3WFaOGrFnjj",
        "colab_type": "text"
      },
      "source": [
        "# Install Selenium dan Import Library"
      ]
    },
    {
      "cell_type": "markdown",
      "metadata": {
        "id": "78jzWxfGYoHC",
        "colab_type": "text"
      },
      "source": [
        "Ref :\n",
        "\n",
        "https://selenium.dev/documentation/en/selenium_installation/installing_selenium_libraries/#python\n",
        "\n",
        "https://stackoverflow.com/questions/55085072/how-to-use-selenium-on-colaboratory-google"
      ]
    },
    {
      "cell_type": "code",
      "metadata": {
        "id": "4VG90y20Uz23",
        "colab_type": "code",
        "outputId": "3f6bda2a-d133-4982-8aa3-de406f1916e0",
        "colab": {
          "base_uri": "https://localhost:8080/",
          "height": 1000
        }
      },
      "source": [
        "!pip install selenium\n",
        "!apt-get update\n",
        "!apt install chromium-chromedriver\n",
        "!cp /usr/lib/chromium-browser/chromedriver /usr/bin"
      ],
      "execution_count": 0,
      "outputs": [
        {
          "output_type": "stream",
          "text": [
            "Requirement already satisfied: selenium in /usr/local/lib/python3.6/dist-packages (3.141.0)\n",
            "Requirement already satisfied: urllib3 in /usr/local/lib/python3.6/dist-packages (from selenium) (1.24.3)\n",
            "Hit:1 https://cloud.r-project.org/bin/linux/ubuntu bionic-cran35/ InRelease\n",
            "Ign:2 https://developer.download.nvidia.com/compute/cuda/repos/ubuntu1804/x86_64  InRelease\n",
            "Ign:3 https://developer.download.nvidia.com/compute/machine-learning/repos/ubuntu1804/x86_64  InRelease\n",
            "Hit:4 https://developer.download.nvidia.com/compute/cuda/repos/ubuntu1804/x86_64  Release\n",
            "Hit:5 https://developer.download.nvidia.com/compute/machine-learning/repos/ubuntu1804/x86_64  Release\n",
            "Hit:6 http://ppa.launchpad.net/graphics-drivers/ppa/ubuntu bionic InRelease\n",
            "Hit:8 http://security.ubuntu.com/ubuntu bionic-security InRelease\n",
            "Hit:10 http://archive.ubuntu.com/ubuntu bionic InRelease\n",
            "Hit:11 http://ppa.launchpad.net/marutter/c2d4u3.5/ubuntu bionic InRelease\n",
            "Hit:12 http://archive.ubuntu.com/ubuntu bionic-updates InRelease\n",
            "Hit:13 http://archive.ubuntu.com/ubuntu bionic-backports InRelease\n",
            "Reading package lists... Done\n",
            "Reading package lists... Done\n",
            "Building dependency tree       \n",
            "Reading state information... Done\n",
            "The following package was automatically installed and is no longer required:\n",
            "  libnvidia-common-430\n",
            "Use 'apt autoremove' to remove it.\n",
            "The following additional packages will be installed:\n",
            "  chromium-browser chromium-browser-l10n chromium-codecs-ffmpeg-extra\n",
            "Suggested packages:\n",
            "  webaccounts-chromium-extension unity-chromium-extension adobe-flashplugin\n",
            "The following NEW packages will be installed:\n",
            "  chromium-browser chromium-browser-l10n chromium-chromedriver\n",
            "  chromium-codecs-ffmpeg-extra\n",
            "0 upgraded, 4 newly installed, 0 to remove and 91 not upgraded.\n",
            "Need to get 74.4 MB of archives.\n",
            "After this operation, 264 MB of additional disk space will be used.\n",
            "Get:1 http://archive.ubuntu.com/ubuntu bionic-updates/universe amd64 chromium-codecs-ffmpeg-extra amd64 80.0.3987.87-0ubuntu0.18.04.1 [1,095 kB]\n",
            "Get:2 http://archive.ubuntu.com/ubuntu bionic-updates/universe amd64 chromium-browser amd64 80.0.3987.87-0ubuntu0.18.04.1 [66.1 MB]\n",
            "Get:3 http://archive.ubuntu.com/ubuntu bionic-updates/universe amd64 chromium-browser-l10n all 80.0.3987.87-0ubuntu0.18.04.1 [3,155 kB]\n",
            "Get:4 http://archive.ubuntu.com/ubuntu bionic-updates/universe amd64 chromium-chromedriver amd64 80.0.3987.87-0ubuntu0.18.04.1 [4,044 kB]\n",
            "Fetched 74.4 MB in 9s (8,010 kB/s)\n",
            "Selecting previously unselected package chromium-codecs-ffmpeg-extra.\n",
            "(Reading database ... 134443 files and directories currently installed.)\n",
            "Preparing to unpack .../chromium-codecs-ffmpeg-extra_80.0.3987.87-0ubuntu0.18.04.1_amd64.deb ...\n",
            "Unpacking chromium-codecs-ffmpeg-extra (80.0.3987.87-0ubuntu0.18.04.1) ...\n",
            "Selecting previously unselected package chromium-browser.\n",
            "Preparing to unpack .../chromium-browser_80.0.3987.87-0ubuntu0.18.04.1_amd64.deb ...\n",
            "Unpacking chromium-browser (80.0.3987.87-0ubuntu0.18.04.1) ...\n",
            "Selecting previously unselected package chromium-browser-l10n.\n",
            "Preparing to unpack .../chromium-browser-l10n_80.0.3987.87-0ubuntu0.18.04.1_all.deb ...\n",
            "Unpacking chromium-browser-l10n (80.0.3987.87-0ubuntu0.18.04.1) ...\n",
            "Selecting previously unselected package chromium-chromedriver.\n",
            "Preparing to unpack .../chromium-chromedriver_80.0.3987.87-0ubuntu0.18.04.1_amd64.deb ...\n",
            "Unpacking chromium-chromedriver (80.0.3987.87-0ubuntu0.18.04.1) ...\n",
            "Setting up chromium-codecs-ffmpeg-extra (80.0.3987.87-0ubuntu0.18.04.1) ...\n",
            "Setting up chromium-browser (80.0.3987.87-0ubuntu0.18.04.1) ...\n",
            "update-alternatives: using /usr/bin/chromium-browser to provide /usr/bin/x-www-browser (x-www-browser) in auto mode\n",
            "update-alternatives: using /usr/bin/chromium-browser to provide /usr/bin/gnome-www-browser (gnome-www-browser) in auto mode\n",
            "Setting up chromium-chromedriver (80.0.3987.87-0ubuntu0.18.04.1) ...\n",
            "Setting up chromium-browser-l10n (80.0.3987.87-0ubuntu0.18.04.1) ...\n",
            "Processing triggers for hicolor-icon-theme (0.17-2) ...\n",
            "Processing triggers for mime-support (3.60ubuntu1) ...\n",
            "Processing triggers for man-db (2.8.3-2ubuntu0.1) ...\n",
            "cp: '/usr/lib/chromium-browser/chromedriver' and '/usr/bin/chromedriver' are the same file\n"
          ],
          "name": "stdout"
        }
      ]
    },
    {
      "cell_type": "markdown",
      "metadata": {
        "id": "nPHKjH_GLRwA",
        "colab_type": "text"
      },
      "source": [
        "---\n",
        "\n",
        "**Import Library yang dibutuhkan**"
      ]
    },
    {
      "cell_type": "code",
      "metadata": {
        "id": "XG1AANOVDkms",
        "colab_type": "code",
        "colab": {}
      },
      "source": [
        "from selenium import webdriver\n",
        "from selenium.webdriver.common.by import By\n",
        "from selenium.webdriver.support.ui import WebDriverWait\n",
        "from selenium.webdriver.support import expected_conditions as EC\n",
        "from bs4 import BeautifulSoup"
      ],
      "execution_count": 0,
      "outputs": []
    },
    {
      "cell_type": "markdown",
      "metadata": {
        "id": "M9y9vwS_LjdX",
        "colab_type": "text"
      },
      "source": [
        "# Menggunakan Selenium\n"
      ]
    },
    {
      "cell_type": "markdown",
      "metadata": {
        "id": "bixCTUUuOmBt",
        "colab_type": "text"
      },
      "source": [
        "Implementasi selenium menggunakan website Lazada dan saya hanya membatasi sebanyak 30 data.\n",
        "\n",
        "maka kita membutuhkan perulangan untuk melakukan break.\n",
        "\n",
        "Untuk dapat menjalankan selenium pada browser yang sama kita membutuhkan protocol arguments.\n",
        "\n",
        "Ref : https://peter.sh/experiments/chromium-command-line-switches/"
      ]
    },
    {
      "cell_type": "markdown",
      "metadata": {
        "id": "eLCCyXKNVRhg",
        "colab_type": "text"
      },
      "source": [
        "Untuk melihat contoh penggunaan **BeutifulSoup** bisa lihat disini:\n",
        "\n",
        "https://colab.research.google.com/drive/1XANawM6AGwFYlpfGobXDx9WI-SNsEBEp"
      ]
    },
    {
      "cell_type": "code",
      "metadata": {
        "id": "na01Xkz9IadG",
        "colab_type": "code",
        "colab": {}
      },
      "source": [
        "options = webdriver.ChromeOptions()\t\t# inisialisasi variabel untuk menggunakan webdriver\n",
        "options.add_argument('--headless')\t\t# menambahkan argumment protocol chrome\n",
        "options.add_argument('--no-sandbox')\n",
        "options.add_argument('--disable-dev-shm-usage')\n",
        "\n",
        "browser = webdriver.Chrome('chromedriver', options=options)\n",
        "browser.get(\"https://pages.lazada.co.id/wow/i/id/LandingPage/flashsale\")\t\t# ambil URL dengan mengirimkan arguments sebagai protocol, menggunakan fungsi GET\n",
        "\n",
        "# Ref: https://selenium-python.readthedocs.io/waits.html\n",
        "try:\n",
        "    element = WebDriverWait(browser, 5).until(\n",
        "        EC.presence_of_element_located((By.CLASS_NAME, \"flash-sale-main\"))\n",
        "    )\n",
        "finally:\n",
        "    print(\"Page full loaded\")\n",
        "html = browser.page_source\n",
        "browser.quit()\n",
        "\n",
        "# implementasi dengan BeautifulSoap\n",
        "soup = BeautifulSoup(html, \"html.parser\")\n",
        "divs = soup.findAll(\"div\", class_ = \"unit-content\")\t\t# ambil content nama class parent\n",
        "data_scrap = []\n",
        "\n",
        "for i, div in enumerate(divs):\t\t\t# menggunakan fungsi python enumerates untuk perhitungan item\n",
        "\ttitle = div.find(\"div\", class_ = \"sale-title\").get_text().replace('\\n', '') \n",
        "\tprice = div.find(\"div\", class_ = \"sale-price\").get_text().replace('\\n', '') \n",
        "\tdiscount = div.find(\"span\", class_ = \"discount\").get_text().replace('\\n', '') \n",
        "\tobj = {\n",
        "\t\t\t\"Title\" : title,\n",
        "\t\t\t\"Harga\" : price,\n",
        "\t\t\t\"Stock\" : discount\n",
        "\t}\n",
        "\tdata_scrap.append(obj)\n",
        "\n",
        "\tif i == 30:\t\t\t# jika item sudah sebanyak 30 maka proses berhenti\n",
        "\t\tbreak;"
      ],
      "execution_count": 0,
      "outputs": []
    },
    {
      "cell_type": "code",
      "metadata": {
        "id": "jWaKLoCRlnVl",
        "colab_type": "code",
        "outputId": "c2d16246-61f2-4e07-ab0b-e4046ace3734",
        "colab": {
          "base_uri": "https://localhost:8080/",
          "height": 1000
        }
      },
      "source": [
        "data_scrap"
      ],
      "execution_count": 0,
      "outputs": [
        {
          "output_type": "stream",
          "text": [
            "Page full loaded\n"
          ],
          "name": "stdout"
        },
        {
          "output_type": "execute_result",
          "data": {
            "text/plain": [
              "[{'Harga': '        Rp13.950      ',\n",
              "  'Stock': '    -26%    ',\n",
              "  'Title': 'IGROSIR Bamboo Storage Bag Box Warna ( Tempat penyimpanan organizer Pakaian, Selimut, Bed cover, sprei) [Sto L]'},\n",
              " {'Harga': '        Rp27.300      ',\n",
              "  'Stock': '    -81%    ',\n",
              "  'Title': 'Tupperware Tas Besar / Tas Tupperware murah / Tas Tupperware Tiwi / Tas Sekolah / Tas Selempang / Tas Murah / Tas Lucu / Tas Anak Kartun'},\n",
              " {'Harga': '        Rp4.928      ',\n",
              "  'Stock': '    -78%    ',\n",
              "  'Title': '[BISA COD] A1 Kacamata Wanita Pria Frame Ringan Sunglasses Anti Radiasi Lensa Transparan'},\n",
              " {'Harga': '        Rp51.000      ',\n",
              "  'Stock': '    -62%    ',\n",
              "  'Title': 'CELANA CHINO PANJANG'},\n",
              " {'Harga': '        Rp25.000      ',\n",
              "  'Stock': '    -67%    ',\n",
              "  'Title': 'Tas FOURTY FOUR AIRFOX Selempang Pria Premium - Slingbag Pria Wanita Perahu FOURTY FOUR'},\n",
              " {'Harga': '        Rp27.500      ',\n",
              "  'Stock': '    -72%    ',\n",
              "  'Title': 'Dispenser air galon / pompa galon elektrik / dispenser air elektrik - generasi 1 Random'},\n",
              " {'Harga': '        Rp12.900      ',\n",
              "  'Stock': '    -35%    ',\n",
              "  'Title': 'Baju Bali - Kaos Barong Bali L & XL - Kaos Pantai - Baju Santai - Baju Barong - Baju Pantai - Toko B2M'},\n",
              " {'Harga': '        Rp3.633      ',\n",
              "  'Stock': '    -64%    ',\n",
              "  'Title': 'Parfum Mobil Gantung Model Botol Apel BLACK COFFEE_VLEO'},\n",
              " {'Harga': '        Rp28.000      ',\n",
              "  'Stock': '    -76%    ',\n",
              "  'Title': 'Tas Selempang FOURTY FOUR PROMESS - 7798 Pria Tas Selempang Tas Bahu Tas Waistbag Tas SlingBag Tas Messenger Tas Gadget Tas Smartphone'},\n",
              " {'Harga': '        Rp3.999      ',\n",
              "  'Stock': '    -60%    ',\n",
              "  'Title': 'Tali Jemuran 5 meter Super Praktis'},\n",
              " {'Harga': '        Rp21.900      ',\n",
              "  'Stock': '    -78%    ',\n",
              "  'Title': 'Labelledesign 6Pcs CD WANITA / IMPORT / Say Yes Celana Dalam Wanita Polos Harga Grosir'},\n",
              " {'Harga': '        Rp25.999      ',\n",
              "  'Stock': '    -63%    ',\n",
              "  'Title': 'Rak Sepatu Motif 4 Susun Flaminggo'},\n",
              " {'Harga': '        Rp38.000      ',\n",
              "  'Stock': '    -50%    ',\n",
              "  'Title': 'Tas Waist Bag KEY BAG APOLLO - Cross Body Tas Punggung Tas Dada - Sling Bag Tas Pria Tas Wanita Tas Slempang Pria'},\n",
              " {'Harga': '        Rp38.800      ',\n",
              "  'Stock': '    -13%    ',\n",
              "  'Title': 'Selimut Murah motif kembang cantik 150 x 200'},\n",
              " {'Harga': '        Rp24.900      ',\n",
              "  'Stock': '    -76%    ',\n",
              "  'Title': 'Dompet Pria Bond - Swiss Hunter'},\n",
              " {'Harga': '        Rp148.900      ',\n",
              "  'Stock': '    -27%    ',\n",
              "  'Title': 'Merries TWINPACK Good Skin Pants L Isi 44 - [Isi 2]'},\n",
              " {'Harga': '        Rp18.700      ',\n",
              "  'Stock': '    -73%    ',\n",
              "  'Title': 'Pollenzo Teplek Slipper Sandal Wanita Design Simple'},\n",
              " {'Harga': '        Rp31.900      ',\n",
              "  'Stock': '    -68%    ',\n",
              "  'Title': 'headphone KIN extra bass stereo sony/jbl/samsung mdr450 high quality Earphone'},\n",
              " {'Harga': '        Rp34.900      ',\n",
              "  'Stock': '    -65%    ',\n",
              "  'Title': 'WAJAN ENAMEL 30 cm - Wajan Sehat'},\n",
              " {'Harga': '        Rp13.900      ',\n",
              "  'Stock': '    -76%    ',\n",
              "  'Title': 'Dompet Fashion Pria 5 Inchi 1868 Kulit Sintetis Simple -Lokal Landscape'},\n",
              " {'Harga': '        Rp9.500      ',\n",
              "  'Stock': '    -76%    ',\n",
              "  'Title': 'Turban Pita Polkadot Anting Pompom & Anak (pakaian anak perempuan hijab kerudung gamis)'},\n",
              " {'Harga': '        Rp51.775      ',\n",
              "  'Stock': '    -31%    ',\n",
              "  'Title': 'Scarlett Whitening Body Lotion by Felisya Angelista 100% Original'},\n",
              " {'Harga': '        Rp18.900      ',\n",
              "  'Stock': '    -62%    ',\n",
              "  'Title': 'KINwatch Kin Quartz Jam Tangan Fashion Pria dan Wanita Import Korea Kasual'},\n",
              " {'Harga': '        Rp148.900      ',\n",
              "  'Stock': '    -34%    ',\n",
              "  'Title': 'Merries TWINPACK Good Skin Pants XL Isi 38 - [Isi 2]'},\n",
              " {'Harga': '        Rp51.500      ',\n",
              "  'Stock': '    -66%    ',\n",
              "  'Title': 'Ambigo Shanon Ultra Sport Running Shoes SU01 Sepatu Olahraga Wanita Cewek Sneakers Kets Casual Import'},\n",
              " {'Harga': '        Rp25.700      ',\n",
              "  'Stock': '    -60%    ',\n",
              "  'Title': 'Surya Lampu Emergency SYT L101 Light LED 10 SMD + Senter Super LED 1W Rechargeable Tahan 6 Jam'},\n",
              " {'Harga': '        Rp8.000      ',\n",
              "  'Stock': '    -60%    ',\n",
              "  'Title': 'LOKA COD - Sabun Papaya By MAMAYA - Sabun Pemutih Wajah Pepaya'},\n",
              " {'Harga': '        Rp8.400      ',\n",
              "  'Stock': '    -72%    ',\n",
              "  'Title': 'Geneva Leather - COD - Jakarta -  Jam Tangan Wanita  - Jam Tangan Fashion -  GNV LC 0990 VARIANT'},\n",
              " {'Harga': '        Rp31.000      ',\n",
              "  'Stock': '    -25%    ',\n",
              "  'Title': 'Hannochs - Lampu LED Tricolour - 14 watt - 1 Lampu 3 pilihan warna cahaya'},\n",
              " {'Harga': '        Rp14.900      ',\n",
              "  'Stock': '    -50%    ',\n",
              "  'Title': '(6Pcs) Masker Kain Tali Hijab / Masker Hijab /  Masker Kain Tali Sambung'},\n",
              " {'Harga': '        Rp19.600      ',\n",
              "  'Stock': '    -50%    ',\n",
              "  'Title': 'CIRCLE_Tas Selempang Wanita'}]"
            ]
          },
          "metadata": {
            "tags": []
          },
          "execution_count": 95
        }
      ]
    }
  ]
}