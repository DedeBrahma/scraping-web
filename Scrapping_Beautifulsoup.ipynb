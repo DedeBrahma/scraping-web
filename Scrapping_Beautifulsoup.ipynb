{
  "nbformat": 4,
  "nbformat_minor": 0,
  "metadata": {
    "colab": {
      "name": "Scrapping_Beautifulsoup.ipynb",
      "provenance": [],
      "collapsed_sections": [
        "gdSrb47dzf7f"
      ],
      "toc_visible": true,
      "authorship_tag": "ABX9TyMQWcgY2qGH7m9Y2vN0HMyZ",
      "include_colab_link": true
    },
    "kernelspec": {
      "name": "python3",
      "display_name": "Python 3"
    }
  },
  "cells": [
    {
      "cell_type": "markdown",
      "metadata": {
        "id": "view-in-github",
        "colab_type": "text"
      },
      "source": [
        "<a href=\"https://colab.research.google.com/github/DedeBrahma/scraping-web/blob/master/Scrapping_Beautifulsoup.ipynb\" target=\"_parent\"><img src=\"https://colab.research.google.com/assets/colab-badge.svg\" alt=\"Open In Colab\"/></a>"
      ]
    },
    {
      "cell_type": "markdown",
      "metadata": {
        "id": "PExwqz59zbZD",
        "colab_type": "text"
      },
      "source": [
        "**INTRO**\n",
        "\n",
        "copy file ini ke dalam google drive mu, caranya :\n",
        "\n",
        "klik File di pojok kiri, lalu pilih \"save a copy in drive.\"\n",
        "\n",
        "Note : `SELALU GUNAKAN REFERENSI KETIKA ANDA MENYADUR`"
      ]
    },
    {
      "cell_type": "markdown",
      "metadata": {
        "id": "gdSrb47dzf7f",
        "colab_type": "text"
      },
      "source": [
        "# Install dan Import Library"
      ]
    },
    {
      "cell_type": "markdown",
      "metadata": {
        "id": "GQou0RAqIwO6",
        "colab_type": "text"
      },
      "source": [
        "**Instal library requests**\n",
        "\n",
        "Ref: https://pypi.org/project/requests/"
      ]
    },
    {
      "cell_type": "code",
      "metadata": {
        "id": "24HWXGaU-LF1",
        "colab_type": "code",
        "outputId": "db42c1f0-2f6e-4764-a863-64315786c541",
        "colab": {
          "base_uri": "https://localhost:8080/",
          "height": 102
        }
      },
      "source": [
        "pip install requests"
      ],
      "execution_count": 0,
      "outputs": [
        {
          "output_type": "stream",
          "text": [
            "Requirement already satisfied: requests in /usr/local/lib/python3.6/dist-packages (2.21.0)\n",
            "Requirement already satisfied: urllib3<1.25,>=1.21.1 in /usr/local/lib/python3.6/dist-packages (from requests) (1.24.3)\n",
            "Requirement already satisfied: idna<2.9,>=2.5 in /usr/local/lib/python3.6/dist-packages (from requests) (2.8)\n",
            "Requirement already satisfied: chardet<3.1.0,>=3.0.2 in /usr/local/lib/python3.6/dist-packages (from requests) (3.0.4)\n",
            "Requirement already satisfied: certifi>=2017.4.17 in /usr/local/lib/python3.6/dist-packages (from requests) (2019.11.28)\n"
          ],
          "name": "stdout"
        }
      ]
    },
    {
      "cell_type": "markdown",
      "metadata": {
        "id": "GCsUz0gd0Uwf",
        "colab_type": "text"
      },
      "source": [
        "---\n",
        "\n",
        "\n",
        "Install library Beautifulsoup\n",
        "\n",
        "Ref: https://pypi.org/project/beautifulsoup4/"
      ]
    },
    {
      "cell_type": "code",
      "metadata": {
        "id": "rZFuDAkK-PYR",
        "colab_type": "code",
        "outputId": "22ead071-d606-4551-bfda-4474044c9f9e",
        "colab": {
          "base_uri": "https://localhost:8080/",
          "height": 34
        }
      },
      "source": [
        "pip install beautifulsoup4"
      ],
      "execution_count": 0,
      "outputs": [
        {
          "output_type": "stream",
          "text": [
            "Requirement already satisfied: beautifulsoup4 in /usr/local/lib/python3.6/dist-packages (4.6.3)\n"
          ],
          "name": "stdout"
        }
      ]
    },
    {
      "cell_type": "markdown",
      "metadata": {
        "id": "OOacKxNvInDY",
        "colab_type": "text"
      },
      "source": [
        "---\n",
        "Kemudian import semua library"
      ]
    },
    {
      "cell_type": "code",
      "metadata": {
        "id": "omaB3yhBzMq1",
        "colab_type": "code",
        "colab": {}
      },
      "source": [
        "import requests     # library untuk URL\n",
        "from bs4 import BeautifulSoup   # library untuk scrapping web\n",
        "from csv import writer    # library untuk membuat file CSV"
      ],
      "execution_count": 0,
      "outputs": []
    },
    {
      "cell_type": "markdown",
      "metadata": {
        "id": "GyCkneN34a11",
        "colab_type": "text"
      },
      "source": [
        "# Menggunakan Beautifulsoup"
      ]
    },
    {
      "cell_type": "markdown",
      "metadata": {
        "id": "OAIVpAVP3ng7",
        "colab_type": "text"
      },
      "source": [
        "Sebelum implementasi BeautifulSoup dengan collabs, lakukan hal berikut:\n",
        "1.   Masukkan URL(alamat website) yang dituju pada tab baru\n",
        "2.   Tekan F12 atau klik kanan Inspect\n",
        "3.   Cari id atau nama class yang dibutuhkan (didalam tag \"body\")\n",
        "4.   Perhatikan parent dan child dari class yang ada\n",
        "\n",
        "Ref: https://www.crummy.com/software/BeautifulSoup/bs4/doc/index.html#quick-start"
      ]
    },
    {
      "cell_type": "code",
      "metadata": {
        "id": "OzoNC1Bj1JzB",
        "colab_type": "code",
        "colab": {}
      },
      "source": [
        "url = \"https://www.tribunnews.com/techno\" # inisialisasi alamat URL\n",
        "res = requests.get(url)     # menggunakan library request dengan mengirimkan header\n",
        "html = BeautifulSoup(res.content, \"html.parser\")    # parsing html menggunakan Beautifulsoup\n",
        "rows = html.find(\"div\", class_ = \"bsh ovh \")     # menggunakan fungsi find untuk mencari class dengan nama \"_1E0nAqju\"\n",
        "divs = rows.findAll(\"li\", {\"class\" :\"p1520 art-list pos_rel\"})   # mencari semua class dengan nama \"I8luE9wS\" yang ada pada variabel rows"
      ],
      "execution_count": 0,
      "outputs": []
    },
    {
      "cell_type": "markdown",
      "metadata": {
        "id": "yXnLHILB4lRv",
        "colab_type": "text"
      },
      "source": [
        "---\n",
        "\n",
        "\n",
        "**Membuat file CSV**\n",
        "\n",
        "Ref:\n",
        "\n",
        "create csv = https://docs.python.org/3/library/csv.html\n",
        "\n",
        "File handling = https://stackabuse.com/file-handling-in-python/\n",
        "\n",
        "---\n",
        "Simpan kedalam path folder yang ada pada collabs, lihat pada sidebar sebelah kiri. klik pada tab folder\n",
        "\n",
        "path:  /content/sample_data/NAMA_FILE\n",
        "\n",
        "Ambil data berupa:\n",
        "\n",
        "*   Kategori\n",
        "*   Isi berita\n",
        "*   Link\n",
        "\n",
        "\n",
        "**Note** : Untuk melihat hasil harus di refresh pada folder sample_data"
      ]
    },
    {
      "cell_type": "code",
      "metadata": {
        "id": "tFm7KfGA1Otp",
        "colab_type": "code",
        "colab": {}
      },
      "source": [
        "with open('/content/sample_data/berita_tribun.csv', 'w') as csv_file:\n",
        "    csv_writer = writer(csv_file)\n",
        "    # inisialisasi nama kolom untuk file csv\n",
        "    headers = ['Kategori', 'Isi Berita', 'Link']\n",
        "    # membuat header kedalam file csv\n",
        "    csv_writer.writerow(headers)\n",
        "\n",
        "    # looping variabel div (merupakan tag html <li>)\n",
        "    for div in divs:\n",
        "        kategori = div.find(\"div\", class_ = \"mr140\").span.get_text().replace('\\n', '')    # mencari tag <span> dan mereplace baris kosong atau enter\n",
        "        title = div.find(\"div\", class_ = \"mr140\").h3.get_text().replace('\\t', '')     # mencari <h3> dan mereplace spaci\n",
        "        link = div.find(\"div\", class_ = \"mr140\").h3.a.get(\"href\")   # mencari tag <a><href>\n",
        "        csv_writer.writerow([kategori, title, link])      # membuat kolom baris data pada csv dengan variabel (kategori, title, link)"
      ],
      "execution_count": 0,
      "outputs": []
    }
  ]
}